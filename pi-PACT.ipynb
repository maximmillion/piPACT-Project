{
 "cells": [
  {
   "cell_type": "code",
   "execution_count": 21,
   "metadata": {},
   "outputs": [],
   "source": [
    "import numpy as np"
   ]
  },
  {
   "cell_type": "code",
   "execution_count": 22,
   "metadata": {},
   "outputs": [],
   "source": [
    "data = [\n",
    "        # [vertical height(ft), horizontal height(ft), RSSI value approximation]\n",
    "        # if RSSI < 40, then the model predicts 0. Otherwise the model will predict 1.\n",
    "    \n",
    "        # data without cotton  \n",
    "        [0,0,0],\n",
    "        [0,3,1],\n",
    "        [0,6,1],\n",
    "        [3,0,1],\n",
    "        [6,0,1],\n",
    "        # data with cotton (added simply for more data so that accuracy would increase)\n",
    "        [0,0,0],\n",
    "        [0,3,1],\n",
    "        [0,6,1],\n",
    "        [3,0,1],\n",
    "        [6,0,1]\n",
    "       ]"
   ]
  },
  {
   "cell_type": "code",
   "execution_count": 23,
   "metadata": {},
   "outputs": [],
   "source": [
    "# output a value in the range of (0,1)\n",
    "def sigmoid(x):\n",
    "    return 1/(1 + np.exp(-x))\n",
    "\n",
    "# derivative of sigmoid \n",
    "def dsigmoid(x):\n",
    "    return sigmoid(x) * (1-sigmoid(x))"
   ]
  },
  {
   "cell_type": "code",
   "execution_count": 24,
   "metadata": {},
   "outputs": [],
   "source": [
    "# training loop\n",
    "\n",
    "w1 = np.random.randn()\n",
    "w2 = np.random.randn()\n",
    "b = np.random.randn()\n",
    "\n",
    "learning_rate = 0.5\n",
    "\n",
    "for i in range(1, 500000):\n",
    "    # choosing a random index to choose a random data point \n",
    "    random_index = np.random.randint(len(data))\n",
    "    random_trial = data[random_index]\n",
    "    \n",
    "    # applying weights and bias to a random data point\n",
    "    z = random_trial[0] * w1 + random_trial[1] * w2 + b\n",
    "    \n",
    "    # creating target value to represent correct value\n",
    "    correct_RSSI = random_trial[2]\n",
    "    \n",
    "    # cost func, outputs how \"wrong\" the current model is\n",
    "    # we want to calculate the minimum of this function \n",
    "    cost = np.square(sigmoid(z) - correct_RSSI)  \n",
    "\n",
    "    # evaluating the partial derivatives\n",
    "    dcost_dsigmoid = 2 * (sigmoid(z) - correct_RSSI)\n",
    "    dsigmoid_dz = dsigmoid(z)\n",
    "    dz_dw1 = random_trial[0]\n",
    "    dz_dw2 = random_trial[1]\n",
    "    dz_db = 1\n",
    "    \n",
    "    # applying Chain Rule     \n",
    "    dcost_dw1 = dcost_dsigmoid * dsigmoid_dz * dz_dw1\n",
    "    dcost_dw2 = dcost_dsigmoid * dsigmoid_dz * dz_dw2\n",
    "    dcost_db = dcost_dsigmoid * dsigmoid_dz * dz_db\n",
    "    \n",
    "    # modifying the weights & bias to make the model more accurate\n",
    "    w1 = w1 - learning_rate * dcost_dw1 \n",
    "    w2 = w2 - learning_rate * dcost_dw2\n",
    "    b = b - learning_rate * dcost_db"
   ]
  },
  {
   "cell_type": "code",
   "execution_count": 29,
   "metadata": {},
   "outputs": [
    {
     "name": "stdout",
     "output_type": "stream",
     "text": [
      "[0, 0, 0]\n",
      "pred: 0.0026937973805075976\n",
      "\n",
      "\n",
      "[0, 3, 1]\n",
      "pred: 0.9989400457651342\n",
      "\n",
      "\n",
      "[0, 6, 1]\n",
      "pred: 0.9999999969588924\n",
      "\n",
      "\n",
      "[3, 0, 1]\n",
      "pred: 0.9989434100607336\n",
      "\n",
      "\n",
      "[6, 0, 1]\n",
      "pred: 0.999999996978187\n",
      "\n",
      "\n",
      "[0, 0, 0]\n",
      "pred: 0.0026937973805075976\n",
      "\n",
      "\n",
      "[0, 3, 1]\n",
      "pred: 0.9989400457651342\n",
      "\n",
      "\n",
      "[0, 6, 1]\n",
      "pred: 0.9999999969588924\n",
      "\n",
      "\n",
      "[3, 0, 1]\n",
      "pred: 0.9989434100607336\n",
      "\n",
      "\n",
      "[6, 0, 1]\n",
      "pred: 0.999999996978187\n",
      "\n",
      "\n",
      "Average Percent Error: 0.052913755926320416\n"
     ]
    },
    {
     "name": "stderr",
     "output_type": "stream",
     "text": [
      "<ipython-input-29-eecc52a70f0d>:16: RuntimeWarning: divide by zero encountered in double_scalars\n",
      "  error = str(abs((pred - trial[2])/trial[2]))\n"
     ]
    }
   ],
   "source": [
    "# demonstrating the model's accuracy by comparing the model's predictions to the given dataset\n",
    "\n",
    "p_error = []\n",
    "\n",
    "for i in range(len(data)):\n",
    "    trial = data[i]\n",
    "    print(trial)\n",
    "    \n",
    "    temp = trial[0]*w1 + trial[1]*w2 + b\n",
    "    pred = sigmoid(temp)\n",
    "    \n",
    "    print(\"pred:\", pred)\n",
    "    print(\"\\n\")\n",
    "    \n",
    "    # creating array to store % error values\n",
    "    error = str(abs((pred - trial[2])/trial[2]))\n",
    "    if(error != \"inf\"):\n",
    "        p_error.append(error)\n",
    "        \n",
    "# calculating Average Percent Error\n",
    "sum = 0\n",
    "for i in p_error:\n",
    "    round(float(i), 3)\n",
    "    sum += float(i)\n",
    "\n",
    "sum *= 100\n",
    "print(\"Average Percent Error: \" + str(sum/len(p_error)))\n"
   ]
  },
  {
   "cell_type": "code",
   "execution_count": 26,
   "metadata": {},
   "outputs": [],
   "source": [
    "def pred_RSSI(horiz, vert):\n",
    "    z = horiz*w1 + vert*w2 + b\n",
    "    pred = sigmoid(z)\n",
    "    if pred < .5:\n",
    "        print(\"With a horizontal height of \" + str(horiz) + \" and vertical height of \" + str(vert) + \", the RSSI value is less than 40 RSSI\")\n",
    "        print(\"\\n\")\n",
    "    else:\n",
    "        print(\"With a horizontal height of \" + str(horiz) + \" and vertical height of \" + str(vert) + \", the RSSI value is more than 40 RSSI\")\n",
    "        print(\"\\n\")\n"
   ]
  },
  {
   "cell_type": "code",
   "execution_count": 27,
   "metadata": {},
   "outputs": [
    {
     "name": "stdout",
     "output_type": "stream",
     "text": [
      "With a horizontal height of 0 and vertical height of 0, the RSSI value is less than 40 RSSI\n",
      "\n",
      "\n",
      "With a horizontal height of 0 and vertical height of 1, the RSSI value is less than 40 RSSI\n",
      "\n",
      "\n",
      "With a horizontal height of 6 and vertical height of 3, the RSSI value is more than 40 RSSI\n",
      "\n",
      "\n",
      "With a horizontal height of 2 and vertical height of 6, the RSSI value is more than 40 RSSI\n",
      "\n",
      "\n"
     ]
    }
   ],
   "source": [
    "pred_RSSI(0,0)\n",
    "pred_RSSI(0,1)\n",
    "pred_RSSI(6,3)\n",
    "pred_RSSI(2,6)"
   ]
  }
 ],
 "metadata": {
  "kernelspec": {
   "display_name": "Python 3",
   "language": "python",
   "name": "python3"
  },
  "language_info": {
   "codemirror_mode": {
    "name": "ipython",
    "version": 3
   },
   "file_extension": ".py",
   "mimetype": "text/x-python",
   "name": "python",
   "nbconvert_exporter": "python",
   "pygments_lexer": "ipython3",
   "version": "3.8.3"
  }
 },
 "nbformat": 4,
 "nbformat_minor": 4
}
